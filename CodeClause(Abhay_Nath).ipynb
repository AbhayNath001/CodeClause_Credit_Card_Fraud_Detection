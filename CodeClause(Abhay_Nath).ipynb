{
  "nbformat": 4,
  "nbformat_minor": 0,
  "metadata": {
    "colab": {
      "provenance": [],
      "authorship_tag": "ABX9TyNWoeqTkXsDUiGdLZDeSC2L",
      "include_colab_link": true
    },
    "kernelspec": {
      "name": "python3",
      "display_name": "Python 3"
    },
    "language_info": {
      "name": "python"
    }
  },
  "cells": [
    {
      "cell_type": "markdown",
      "metadata": {
        "id": "view-in-github",
        "colab_type": "text"
      },
      "source": [
        "<a href=\"https://colab.research.google.com/github/AbhayNath001/CodeClause_Credit_Card_Fraud_Detection/blob/main/CodeClause(Abhay_Nath).ipynb\" target=\"_parent\"><img src=\"https://colab.research.google.com/assets/colab-badge.svg\" alt=\"Open In Colab\"/></a>"
      ]
    },
    {
      "cell_type": "code",
      "execution_count": 19,
      "metadata": {
        "colab": {
          "base_uri": "https://localhost:8080/"
        },
        "id": "biar3mILaP25",
        "outputId": "13f5c0c3-6d7c-4fec-828e-82feefd8690a"
      },
      "outputs": [
        {
          "output_type": "stream",
          "name": "stdout",
          "text": [
            "Enter ID: 52478614\n",
            "25+ Transaction/Day (Y/N): Y\n",
            "Enter income total: 5000000\n",
            "The provided information does not indicate a fraud case.\n"
          ]
        }
      ],
      "source": [
        "import pandas as pd\n",
        "from sklearn.ensemble import RandomForestClassifier\n",
        "\n",
        "# Load the dataset\n",
        "df = pd.read_csv('application_record.csv')\n",
        "\n",
        "# Select relevant features and labels\n",
        "features = ['ID', '25+_TRANSATION/DAY', 'AMT_INCOME_TOTAL']\n",
        "label = 'FRAUD_CARD'  # Replace 'FRAUD_CARD' with the actual column name for fraud labels\n",
        "\n",
        "# Prepare the data\n",
        "X = df[features]\n",
        "y = df[label]\n",
        "\n",
        "# Convert categorical variables to numerical using one-hot encoding\n",
        "X = pd.get_dummies(X)\n",
        "\n",
        "# Train a Random Forest classifier\n",
        "clf = RandomForestClassifier()\n",
        "clf.fit(X, y)\n",
        "\n",
        "# Prompt user for input values\n",
        "id_input = int(input(\"Enter ID: \"))\n",
        "transaction_input = input(\"25+ Transaction/Day (Y/N): \")\n",
        "income_input = int(input(\"Enter income total: \"))\n",
        "\n",
        "# Create a DataFrame from user input\n",
        "input_data = pd.DataFrame({\n",
        "    'ID': [id_input],\n",
        "    '25+_TRANSATION/DAY_Y': [1 if transaction_input.upper() == 'Y' else 0],\n",
        "    '25+_TRANSATION/DAY_N': [0 if transaction_input.upper() == 'N' else 1],\n",
        "    'AMT_INCOME_TOTAL': [income_input]\n",
        "})\n",
        "\n",
        "# Convert categorical variables to numerical using one-hot encoding\n",
        "input_data = pd.get_dummies(input_data)\n",
        "\n",
        "# Align columns of input_data with training data\n",
        "input_data = input_data.reindex(columns=X.columns, fill_value=0)\n",
        "\n",
        "# Make prediction on the user input\n",
        "prediction = clf.predict(input_data)\n",
        "\n",
        "if prediction[0] == 1:\n",
        "    print(\"The provided information suggests a potential fraud case.\")\n",
        "else:\n",
        "    print(\"The provided information does not indicate a fraud case.\")\n"
      ]
    }
  ]
}